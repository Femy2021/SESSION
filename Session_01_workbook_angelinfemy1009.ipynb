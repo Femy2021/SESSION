{
  "nbformat": 4,
  "nbformat_minor": 0,
  "metadata": {
    "colab": {
      "name": "Session_01_workbook_angelinfemy1009.ipynb",
      "provenance": [],
      "collapsed_sections": []
    },
    "kernelspec": {
      "name": "python3",
      "display_name": "Python 3"
    },
    "language_info": {
      "name": "python"
    }
  },
  "cells": [
    {
      "cell_type": "markdown",
      "metadata": {
        "id": "Vsr0RuxF8gTt"
      },
      "source": [
        "#Workouts for the ML intro session\n"
      ]
    },
    {
      "cell_type": "markdown",
      "metadata": {
        "id": "VMrfCQbT8t-K"
      },
      "source": [
        "##Complete all the cells and upload the note book to github\n",
        "\n",
        "**Kindly use your own explanations and examples. you refer the internet but try to explain things with your own words and examples**\n"
      ]
    },
    {
      "cell_type": "markdown",
      "metadata": {
        "id": "4TiM_moD8-V_"
      },
      "source": [
        "\n",
        "\n",
        "1.  Will machine overtake humans in near future ? if yes explain why ? if not explain what prevents machines to learn/perform at human level ?\n",
        "\n",
        "   No,we could not really develop an artifical intelligence that learn itself.\n",
        "what all we could achieve making so far is expert system where human knowledge form a basis and then the system take logical decisions based on the guidelines already fed into the system.\n",
        "\n",
        "\n"
      ]
    },
    {
      "cell_type": "markdown",
      "metadata": {
        "id": "W9aIe-Pl9uED"
      },
      "source": [
        "2. What recent development you think is very important or inspiring in machine learning/AI field ? just few words on any one or two\n",
        "\n",
        "  Drone\n",
        "  \n",
        "  IOT"
      ]
    },
    {
      "cell_type": "markdown",
      "metadata": {
        "id": "XcQoFPwg-ChB"
      },
      "source": [
        "3. What is the differnce between regular programming or machine learning ?\n",
        "\n",
        "Regular programming - person creates the program by himself.\n",
        "\n",
        "machine learning - the algorithm automatically formulates the rules from the data."
      ]
    },
    {
      "cell_type": "markdown",
      "metadata": {
        "id": "gJXmTK0r-Ydb"
      },
      "source": [
        "4. What is model is machine learning ?\n",
        "\n",
        "   A machine learning model is a file that has been trained to recognize certain types of patterns."
      ]
    },
    {
      "cell_type": "markdown",
      "metadata": {
        "id": "XGuClocF-dRX"
      },
      "source": [
        "5. how/where machine learning stores its learning?\n",
        "\n",
        "    The ML algorithm is stored in the parameters.\n",
        "\n",
        "\n",
        "\n"
      ]
    },
    {
      "cell_type": "markdown",
      "metadata": {
        "id": "SFVwc5jC-oDE"
      },
      "source": [
        "6. What is training ?\n",
        "    \n",
        "  Training is basically to provide ‘training data’ for the machine to learn (learning algorithm), learning is the algorithm (machine) which is optimizing parameters, and testing is to verify the results."
      ]
    },
    {
      "cell_type": "markdown",
      "metadata": {
        "id": "BDx5DiJ4-ro_"
      },
      "source": [
        "7. what is reinforcement learning ?\n",
        "\n",
        "      It is continuously learning through label.\n",
        "\n",
        "\n",
        "\n"
      ]
    },
    {
      "cell_type": "markdown",
      "metadata": {
        "id": "hYk7xK_Z-9dN"
      },
      "source": [
        "8. Give use cases for classification, clustering and regression ?\n",
        "\n",
        "   classification - supervised machine learning algorithm\n",
        "   clustering -    unsupervised machine learning algorithm\n",
        "   regression - reinforcement machine learning algorithm\n",
        "\n",
        "\n"
      ]
    },
    {
      "cell_type": "markdown",
      "metadata": {
        "id": "k0YwsEGa_baZ"
      },
      "source": [
        "9. What is dimension ? will more dimension be helpful to improve a machine learning model ? \n",
        "\n",
        "   dimensionality is used for cluster analysis.\n",
        "   "
      ]
    },
    {
      "cell_type": "markdown",
      "metadata": {
        "id": "-od_1BPK_ktN"
      },
      "source": [
        "10. what is hypothetical space ? explain with an example\n",
        "\n",
        "    This is the set form which ML algorithm would determine the best possible target fuction or output."
      ]
    }
  ]
}